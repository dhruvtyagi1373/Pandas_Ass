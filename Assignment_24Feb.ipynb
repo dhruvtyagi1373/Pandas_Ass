{
 "cells": [
  {
   "cell_type": "markdown",
   "id": "49ab5508-9122-4a6d-8544-b3d3b2c70885",
   "metadata": {},
   "source": [
    "## Q1. List any five functions of the pandas library with execution."
   ]
  },
  {
   "cell_type": "raw",
   "id": "26c00ea9-c137-4cda-82f0-837b47fca5cb",
   "metadata": {},
   "source": [
    "1. read_csv() :  read_csv() function helps read a comma-separated values (csv) file into a Pandas DataFrame."
   ]
  },
  {
   "cell_type": "code",
   "execution_count": 3,
   "id": "c92aeb0c-d304-4563-a5af-d967fd71d416",
   "metadata": {},
   "outputs": [],
   "source": [
    "import pandas as pd\n",
    "df = pd.read_csv(\"student.csv\")"
   ]
  },
  {
   "cell_type": "code",
   "execution_count": 2,
   "id": "1db5d69d-fa7d-47a8-aeb8-d6196ef19a58",
   "metadata": {},
   "outputs": [
    {
     "data": {
      "text/html": [
       "<div>\n",
       "<style scoped>\n",
       "    .dataframe tbody tr th:only-of-type {\n",
       "        vertical-align: middle;\n",
       "    }\n",
       "\n",
       "    .dataframe tbody tr th {\n",
       "        vertical-align: top;\n",
       "    }\n",
       "\n",
       "    .dataframe thead th {\n",
       "        text-align: right;\n",
       "    }\n",
       "</style>\n",
       "<table border=\"1\" class=\"dataframe\">\n",
       "  <thead>\n",
       "    <tr style=\"text-align: right;\">\n",
       "      <th></th>\n",
       "      <th>id</th>\n",
       "      <th>name</th>\n",
       "      <th>class</th>\n",
       "      <th>mark</th>\n",
       "      <th>gender</th>\n",
       "    </tr>\n",
       "  </thead>\n",
       "  <tbody>\n",
       "    <tr>\n",
       "      <th>0</th>\n",
       "      <td>1</td>\n",
       "      <td>John Deo</td>\n",
       "      <td>Four</td>\n",
       "      <td>75</td>\n",
       "      <td>female</td>\n",
       "    </tr>\n",
       "    <tr>\n",
       "      <th>1</th>\n",
       "      <td>2</td>\n",
       "      <td>Max Ruin</td>\n",
       "      <td>Three</td>\n",
       "      <td>85</td>\n",
       "      <td>male</td>\n",
       "    </tr>\n",
       "    <tr>\n",
       "      <th>2</th>\n",
       "      <td>3</td>\n",
       "      <td>Arnold</td>\n",
       "      <td>Three</td>\n",
       "      <td>55</td>\n",
       "      <td>male</td>\n",
       "    </tr>\n",
       "    <tr>\n",
       "      <th>3</th>\n",
       "      <td>4</td>\n",
       "      <td>Krish Star</td>\n",
       "      <td>Four</td>\n",
       "      <td>60</td>\n",
       "      <td>female</td>\n",
       "    </tr>\n",
       "    <tr>\n",
       "      <th>4</th>\n",
       "      <td>5</td>\n",
       "      <td>John Mike</td>\n",
       "      <td>Four</td>\n",
       "      <td>60</td>\n",
       "      <td>female</td>\n",
       "    </tr>\n",
       "    <tr>\n",
       "      <th>5</th>\n",
       "      <td>6</td>\n",
       "      <td>Alex John</td>\n",
       "      <td>Four</td>\n",
       "      <td>55</td>\n",
       "      <td>male</td>\n",
       "    </tr>\n",
       "    <tr>\n",
       "      <th>6</th>\n",
       "      <td>7</td>\n",
       "      <td>My John Rob</td>\n",
       "      <td>Fifth</td>\n",
       "      <td>78</td>\n",
       "      <td>male</td>\n",
       "    </tr>\n",
       "    <tr>\n",
       "      <th>7</th>\n",
       "      <td>8</td>\n",
       "      <td>Asruid</td>\n",
       "      <td>Five</td>\n",
       "      <td>85</td>\n",
       "      <td>male</td>\n",
       "    </tr>\n",
       "    <tr>\n",
       "      <th>8</th>\n",
       "      <td>9</td>\n",
       "      <td>Tes Qry</td>\n",
       "      <td>Six</td>\n",
       "      <td>78</td>\n",
       "      <td>male</td>\n",
       "    </tr>\n",
       "    <tr>\n",
       "      <th>9</th>\n",
       "      <td>10</td>\n",
       "      <td>Big John</td>\n",
       "      <td>Four</td>\n",
       "      <td>55</td>\n",
       "      <td>female</td>\n",
       "    </tr>\n",
       "    <tr>\n",
       "      <th>10</th>\n",
       "      <td>11</td>\n",
       "      <td>Ronald</td>\n",
       "      <td>Six</td>\n",
       "      <td>89</td>\n",
       "      <td>female</td>\n",
       "    </tr>\n",
       "    <tr>\n",
       "      <th>11</th>\n",
       "      <td>12</td>\n",
       "      <td>Recky</td>\n",
       "      <td>Six</td>\n",
       "      <td>94</td>\n",
       "      <td>female</td>\n",
       "    </tr>\n",
       "    <tr>\n",
       "      <th>12</th>\n",
       "      <td>13</td>\n",
       "      <td>Kty</td>\n",
       "      <td>Seven</td>\n",
       "      <td>88</td>\n",
       "      <td>female</td>\n",
       "    </tr>\n",
       "    <tr>\n",
       "      <th>13</th>\n",
       "      <td>14</td>\n",
       "      <td>Bigy</td>\n",
       "      <td>Seven</td>\n",
       "      <td>88</td>\n",
       "      <td>female</td>\n",
       "    </tr>\n",
       "    <tr>\n",
       "      <th>14</th>\n",
       "      <td>15</td>\n",
       "      <td>Tade Row</td>\n",
       "      <td>Four</td>\n",
       "      <td>88</td>\n",
       "      <td>male</td>\n",
       "    </tr>\n",
       "    <tr>\n",
       "      <th>15</th>\n",
       "      <td>16</td>\n",
       "      <td>Gimmy</td>\n",
       "      <td>Four</td>\n",
       "      <td>88</td>\n",
       "      <td>male</td>\n",
       "    </tr>\n",
       "    <tr>\n",
       "      <th>16</th>\n",
       "      <td>17</td>\n",
       "      <td>Tumyu</td>\n",
       "      <td>Six</td>\n",
       "      <td>54</td>\n",
       "      <td>male</td>\n",
       "    </tr>\n",
       "    <tr>\n",
       "      <th>17</th>\n",
       "      <td>18</td>\n",
       "      <td>Honny</td>\n",
       "      <td>Five</td>\n",
       "      <td>75</td>\n",
       "      <td>male</td>\n",
       "    </tr>\n",
       "    <tr>\n",
       "      <th>18</th>\n",
       "      <td>19</td>\n",
       "      <td>Tinny</td>\n",
       "      <td>Nine</td>\n",
       "      <td>18</td>\n",
       "      <td>male</td>\n",
       "    </tr>\n",
       "    <tr>\n",
       "      <th>19</th>\n",
       "      <td>20</td>\n",
       "      <td>Jackly</td>\n",
       "      <td>Nine</td>\n",
       "      <td>65</td>\n",
       "      <td>female</td>\n",
       "    </tr>\n",
       "    <tr>\n",
       "      <th>20</th>\n",
       "      <td>21</td>\n",
       "      <td>Babby John</td>\n",
       "      <td>Four</td>\n",
       "      <td>69</td>\n",
       "      <td>female</td>\n",
       "    </tr>\n",
       "    <tr>\n",
       "      <th>21</th>\n",
       "      <td>22</td>\n",
       "      <td>Reggid</td>\n",
       "      <td>Seven</td>\n",
       "      <td>55</td>\n",
       "      <td>female</td>\n",
       "    </tr>\n",
       "    <tr>\n",
       "      <th>22</th>\n",
       "      <td>23</td>\n",
       "      <td>Herod</td>\n",
       "      <td>Eight</td>\n",
       "      <td>79</td>\n",
       "      <td>male</td>\n",
       "    </tr>\n",
       "    <tr>\n",
       "      <th>23</th>\n",
       "      <td>24</td>\n",
       "      <td>Tiddy Now</td>\n",
       "      <td>Seven</td>\n",
       "      <td>78</td>\n",
       "      <td>male</td>\n",
       "    </tr>\n",
       "    <tr>\n",
       "      <th>24</th>\n",
       "      <td>25</td>\n",
       "      <td>Giff Tow</td>\n",
       "      <td>Seven</td>\n",
       "      <td>88</td>\n",
       "      <td>male</td>\n",
       "    </tr>\n",
       "    <tr>\n",
       "      <th>25</th>\n",
       "      <td>26</td>\n",
       "      <td>Crelea</td>\n",
       "      <td>Seven</td>\n",
       "      <td>79</td>\n",
       "      <td>male</td>\n",
       "    </tr>\n",
       "    <tr>\n",
       "      <th>26</th>\n",
       "      <td>27</td>\n",
       "      <td>Big Nose</td>\n",
       "      <td>Three</td>\n",
       "      <td>81</td>\n",
       "      <td>female</td>\n",
       "    </tr>\n",
       "    <tr>\n",
       "      <th>27</th>\n",
       "      <td>28</td>\n",
       "      <td>Rojj Base</td>\n",
       "      <td>Seven</td>\n",
       "      <td>86</td>\n",
       "      <td>female</td>\n",
       "    </tr>\n",
       "    <tr>\n",
       "      <th>28</th>\n",
       "      <td>29</td>\n",
       "      <td>Tess Played</td>\n",
       "      <td>Seven</td>\n",
       "      <td>55</td>\n",
       "      <td>male</td>\n",
       "    </tr>\n",
       "    <tr>\n",
       "      <th>29</th>\n",
       "      <td>30</td>\n",
       "      <td>Reppy Red</td>\n",
       "      <td>Six</td>\n",
       "      <td>79</td>\n",
       "      <td>female</td>\n",
       "    </tr>\n",
       "    <tr>\n",
       "      <th>30</th>\n",
       "      <td>31</td>\n",
       "      <td>Marry Toeey</td>\n",
       "      <td>Four</td>\n",
       "      <td>88</td>\n",
       "      <td>male</td>\n",
       "    </tr>\n",
       "    <tr>\n",
       "      <th>31</th>\n",
       "      <td>32</td>\n",
       "      <td>Binn Rott</td>\n",
       "      <td>Seven</td>\n",
       "      <td>90</td>\n",
       "      <td>female</td>\n",
       "    </tr>\n",
       "    <tr>\n",
       "      <th>32</th>\n",
       "      <td>33</td>\n",
       "      <td>Kenn Rein</td>\n",
       "      <td>Six</td>\n",
       "      <td>96</td>\n",
       "      <td>female</td>\n",
       "    </tr>\n",
       "    <tr>\n",
       "      <th>33</th>\n",
       "      <td>34</td>\n",
       "      <td>Gain Toe</td>\n",
       "      <td>Seven</td>\n",
       "      <td>69</td>\n",
       "      <td>male</td>\n",
       "    </tr>\n",
       "    <tr>\n",
       "      <th>34</th>\n",
       "      <td>35</td>\n",
       "      <td>Rows Noump</td>\n",
       "      <td>Six</td>\n",
       "      <td>88</td>\n",
       "      <td>female</td>\n",
       "    </tr>\n",
       "  </tbody>\n",
       "</table>\n",
       "</div>"
      ],
      "text/plain": [
       "    id         name  class  mark  gender\n",
       "0    1     John Deo   Four    75  female\n",
       "1    2     Max Ruin  Three    85    male\n",
       "2    3       Arnold  Three    55    male\n",
       "3    4   Krish Star   Four    60  female\n",
       "4    5    John Mike   Four    60  female\n",
       "5    6    Alex John   Four    55    male\n",
       "6    7  My John Rob  Fifth    78    male\n",
       "7    8       Asruid   Five    85    male\n",
       "8    9      Tes Qry    Six    78    male\n",
       "9   10     Big John   Four    55  female\n",
       "10  11       Ronald    Six    89  female\n",
       "11  12        Recky    Six    94  female\n",
       "12  13          Kty  Seven    88  female\n",
       "13  14         Bigy  Seven    88  female\n",
       "14  15     Tade Row   Four    88    male\n",
       "15  16        Gimmy   Four    88    male\n",
       "16  17        Tumyu    Six    54    male\n",
       "17  18        Honny   Five    75    male\n",
       "18  19        Tinny   Nine    18    male\n",
       "19  20       Jackly   Nine    65  female\n",
       "20  21   Babby John   Four    69  female\n",
       "21  22       Reggid  Seven    55  female\n",
       "22  23        Herod  Eight    79    male\n",
       "23  24    Tiddy Now  Seven    78    male\n",
       "24  25     Giff Tow  Seven    88    male\n",
       "25  26       Crelea  Seven    79    male\n",
       "26  27     Big Nose  Three    81  female\n",
       "27  28    Rojj Base  Seven    86  female\n",
       "28  29  Tess Played  Seven    55    male\n",
       "29  30    Reppy Red    Six    79  female\n",
       "30  31  Marry Toeey   Four    88    male\n",
       "31  32    Binn Rott  Seven    90  female\n",
       "32  33    Kenn Rein    Six    96  female\n",
       "33  34     Gain Toe  Seven    69    male\n",
       "34  35   Rows Noump    Six    88  female"
      ]
     },
     "execution_count": 2,
     "metadata": {},
     "output_type": "execute_result"
    }
   ],
   "source": [
    "df"
   ]
  },
  {
   "cell_type": "raw",
   "id": "89d36fdd-e754-41e9-bf29-28e67d5a26bd",
   "metadata": {},
   "source": [
    "2. head() : head(n) is used to return first n rows of a dataframe.If no n is passed then first 5 rows are returned."
   ]
  },
  {
   "cell_type": "code",
   "execution_count": 3,
   "id": "5bf7eb64-8335-4ce9-b9f5-fde36005ee53",
   "metadata": {},
   "outputs": [
    {
     "data": {
      "text/html": [
       "<div>\n",
       "<style scoped>\n",
       "    .dataframe tbody tr th:only-of-type {\n",
       "        vertical-align: middle;\n",
       "    }\n",
       "\n",
       "    .dataframe tbody tr th {\n",
       "        vertical-align: top;\n",
       "    }\n",
       "\n",
       "    .dataframe thead th {\n",
       "        text-align: right;\n",
       "    }\n",
       "</style>\n",
       "<table border=\"1\" class=\"dataframe\">\n",
       "  <thead>\n",
       "    <tr style=\"text-align: right;\">\n",
       "      <th></th>\n",
       "      <th>id</th>\n",
       "      <th>name</th>\n",
       "      <th>class</th>\n",
       "      <th>mark</th>\n",
       "      <th>gender</th>\n",
       "    </tr>\n",
       "  </thead>\n",
       "  <tbody>\n",
       "    <tr>\n",
       "      <th>0</th>\n",
       "      <td>1</td>\n",
       "      <td>John Deo</td>\n",
       "      <td>Four</td>\n",
       "      <td>75</td>\n",
       "      <td>female</td>\n",
       "    </tr>\n",
       "    <tr>\n",
       "      <th>1</th>\n",
       "      <td>2</td>\n",
       "      <td>Max Ruin</td>\n",
       "      <td>Three</td>\n",
       "      <td>85</td>\n",
       "      <td>male</td>\n",
       "    </tr>\n",
       "    <tr>\n",
       "      <th>2</th>\n",
       "      <td>3</td>\n",
       "      <td>Arnold</td>\n",
       "      <td>Three</td>\n",
       "      <td>55</td>\n",
       "      <td>male</td>\n",
       "    </tr>\n",
       "    <tr>\n",
       "      <th>3</th>\n",
       "      <td>4</td>\n",
       "      <td>Krish Star</td>\n",
       "      <td>Four</td>\n",
       "      <td>60</td>\n",
       "      <td>female</td>\n",
       "    </tr>\n",
       "    <tr>\n",
       "      <th>4</th>\n",
       "      <td>5</td>\n",
       "      <td>John Mike</td>\n",
       "      <td>Four</td>\n",
       "      <td>60</td>\n",
       "      <td>female</td>\n",
       "    </tr>\n",
       "  </tbody>\n",
       "</table>\n",
       "</div>"
      ],
      "text/plain": [
       "   id        name  class  mark  gender\n",
       "0   1    John Deo   Four    75  female\n",
       "1   2    Max Ruin  Three    85    male\n",
       "2   3      Arnold  Three    55    male\n",
       "3   4  Krish Star   Four    60  female\n",
       "4   5   John Mike   Four    60  female"
      ]
     },
     "execution_count": 3,
     "metadata": {},
     "output_type": "execute_result"
    }
   ],
   "source": [
    "df.head()"
   ]
  },
  {
   "cell_type": "raw",
   "id": "9a80491d-1bdc-4341-93a6-1f7b47590370",
   "metadata": {},
   "source": [
    "3. describe() : describe() is used to generate descriptive statistics of the data in a Pandas DataFrame or Series."
   ]
  },
  {
   "cell_type": "code",
   "execution_count": 4,
   "id": "253acab9-f44e-4bc1-9501-b948c94f4781",
   "metadata": {},
   "outputs": [
    {
     "data": {
      "text/html": [
       "<div>\n",
       "<style scoped>\n",
       "    .dataframe tbody tr th:only-of-type {\n",
       "        vertical-align: middle;\n",
       "    }\n",
       "\n",
       "    .dataframe tbody tr th {\n",
       "        vertical-align: top;\n",
       "    }\n",
       "\n",
       "    .dataframe thead th {\n",
       "        text-align: right;\n",
       "    }\n",
       "</style>\n",
       "<table border=\"1\" class=\"dataframe\">\n",
       "  <thead>\n",
       "    <tr style=\"text-align: right;\">\n",
       "      <th></th>\n",
       "      <th>id</th>\n",
       "      <th>mark</th>\n",
       "    </tr>\n",
       "  </thead>\n",
       "  <tbody>\n",
       "    <tr>\n",
       "      <th>count</th>\n",
       "      <td>35.000000</td>\n",
       "      <td>35.000000</td>\n",
       "    </tr>\n",
       "    <tr>\n",
       "      <th>mean</th>\n",
       "      <td>18.000000</td>\n",
       "      <td>74.657143</td>\n",
       "    </tr>\n",
       "    <tr>\n",
       "      <th>std</th>\n",
       "      <td>10.246951</td>\n",
       "      <td>16.401117</td>\n",
       "    </tr>\n",
       "    <tr>\n",
       "      <th>min</th>\n",
       "      <td>1.000000</td>\n",
       "      <td>18.000000</td>\n",
       "    </tr>\n",
       "    <tr>\n",
       "      <th>25%</th>\n",
       "      <td>9.500000</td>\n",
       "      <td>62.500000</td>\n",
       "    </tr>\n",
       "    <tr>\n",
       "      <th>50%</th>\n",
       "      <td>18.000000</td>\n",
       "      <td>79.000000</td>\n",
       "    </tr>\n",
       "    <tr>\n",
       "      <th>75%</th>\n",
       "      <td>26.500000</td>\n",
       "      <td>88.000000</td>\n",
       "    </tr>\n",
       "    <tr>\n",
       "      <th>max</th>\n",
       "      <td>35.000000</td>\n",
       "      <td>96.000000</td>\n",
       "    </tr>\n",
       "  </tbody>\n",
       "</table>\n",
       "</div>"
      ],
      "text/plain": [
       "              id       mark\n",
       "count  35.000000  35.000000\n",
       "mean   18.000000  74.657143\n",
       "std    10.246951  16.401117\n",
       "min     1.000000  18.000000\n",
       "25%     9.500000  62.500000\n",
       "50%    18.000000  79.000000\n",
       "75%    26.500000  88.000000\n",
       "max    35.000000  96.000000"
      ]
     },
     "execution_count": 4,
     "metadata": {},
     "output_type": "execute_result"
    }
   ],
   "source": [
    "df.describe()"
   ]
  },
  {
   "cell_type": "raw",
   "id": "d8a96d21-1888-454b-9603-53570214461c",
   "metadata": {},
   "source": [
    "4. loc[] : loc[:] helps to access a group of rows and columns in a dataset, a slice of the dataset, as per our requirement."
   ]
  },
  {
   "cell_type": "code",
   "execution_count": 7,
   "id": "d5dbb5ee-8928-4743-b620-1d4fc12ecabe",
   "metadata": {},
   "outputs": [
    {
     "data": {
      "text/html": [
       "<div>\n",
       "<style scoped>\n",
       "    .dataframe tbody tr th:only-of-type {\n",
       "        vertical-align: middle;\n",
       "    }\n",
       "\n",
       "    .dataframe tbody tr th {\n",
       "        vertical-align: top;\n",
       "    }\n",
       "\n",
       "    .dataframe thead th {\n",
       "        text-align: right;\n",
       "    }\n",
       "</style>\n",
       "<table border=\"1\" class=\"dataframe\">\n",
       "  <thead>\n",
       "    <tr style=\"text-align: right;\">\n",
       "      <th></th>\n",
       "      <th>id</th>\n",
       "      <th>name</th>\n",
       "      <th>class</th>\n",
       "      <th>mark</th>\n",
       "      <th>gender</th>\n",
       "    </tr>\n",
       "  </thead>\n",
       "  <tbody>\n",
       "    <tr>\n",
       "      <th>4</th>\n",
       "      <td>5</td>\n",
       "      <td>John Mike</td>\n",
       "      <td>Four</td>\n",
       "      <td>60</td>\n",
       "      <td>female</td>\n",
       "    </tr>\n",
       "    <tr>\n",
       "      <th>5</th>\n",
       "      <td>6</td>\n",
       "      <td>Alex John</td>\n",
       "      <td>Four</td>\n",
       "      <td>55</td>\n",
       "      <td>male</td>\n",
       "    </tr>\n",
       "    <tr>\n",
       "      <th>6</th>\n",
       "      <td>7</td>\n",
       "      <td>My John Rob</td>\n",
       "      <td>Fifth</td>\n",
       "      <td>78</td>\n",
       "      <td>male</td>\n",
       "    </tr>\n",
       "    <tr>\n",
       "      <th>7</th>\n",
       "      <td>8</td>\n",
       "      <td>Asruid</td>\n",
       "      <td>Five</td>\n",
       "      <td>85</td>\n",
       "      <td>male</td>\n",
       "    </tr>\n",
       "    <tr>\n",
       "      <th>8</th>\n",
       "      <td>9</td>\n",
       "      <td>Tes Qry</td>\n",
       "      <td>Six</td>\n",
       "      <td>78</td>\n",
       "      <td>male</td>\n",
       "    </tr>\n",
       "    <tr>\n",
       "      <th>9</th>\n",
       "      <td>10</td>\n",
       "      <td>Big John</td>\n",
       "      <td>Four</td>\n",
       "      <td>55</td>\n",
       "      <td>female</td>\n",
       "    </tr>\n",
       "    <tr>\n",
       "      <th>10</th>\n",
       "      <td>11</td>\n",
       "      <td>Ronald</td>\n",
       "      <td>Six</td>\n",
       "      <td>89</td>\n",
       "      <td>female</td>\n",
       "    </tr>\n",
       "    <tr>\n",
       "      <th>11</th>\n",
       "      <td>12</td>\n",
       "      <td>Recky</td>\n",
       "      <td>Six</td>\n",
       "      <td>94</td>\n",
       "      <td>female</td>\n",
       "    </tr>\n",
       "    <tr>\n",
       "      <th>12</th>\n",
       "      <td>13</td>\n",
       "      <td>Kty</td>\n",
       "      <td>Seven</td>\n",
       "      <td>88</td>\n",
       "      <td>female</td>\n",
       "    </tr>\n",
       "  </tbody>\n",
       "</table>\n",
       "</div>"
      ],
      "text/plain": [
       "    id         name  class  mark  gender\n",
       "4    5    John Mike   Four    60  female\n",
       "5    6    Alex John   Four    55    male\n",
       "6    7  My John Rob  Fifth    78    male\n",
       "7    8       Asruid   Five    85    male\n",
       "8    9      Tes Qry    Six    78    male\n",
       "9   10     Big John   Four    55  female\n",
       "10  11       Ronald    Six    89  female\n",
       "11  12        Recky    Six    94  female\n",
       "12  13          Kty  Seven    88  female"
      ]
     },
     "execution_count": 7,
     "metadata": {},
     "output_type": "execute_result"
    }
   ],
   "source": [
    "df.loc[4:12]"
   ]
  },
  {
   "cell_type": "raw",
   "id": "c47c919d-a937-440a-8651-533e6cde1adb",
   "metadata": {},
   "source": [
    "5. tail() :  tail(n) is used to return last n rows of a dataframe.If no n is passed then last 5 rows are returned."
   ]
  },
  {
   "cell_type": "code",
   "execution_count": 10,
   "id": "766bf112-b27f-4f3c-99e0-da525bb91694",
   "metadata": {},
   "outputs": [
    {
     "data": {
      "text/html": [
       "<div>\n",
       "<style scoped>\n",
       "    .dataframe tbody tr th:only-of-type {\n",
       "        vertical-align: middle;\n",
       "    }\n",
       "\n",
       "    .dataframe tbody tr th {\n",
       "        vertical-align: top;\n",
       "    }\n",
       "\n",
       "    .dataframe thead th {\n",
       "        text-align: right;\n",
       "    }\n",
       "</style>\n",
       "<table border=\"1\" class=\"dataframe\">\n",
       "  <thead>\n",
       "    <tr style=\"text-align: right;\">\n",
       "      <th></th>\n",
       "      <th>id</th>\n",
       "      <th>name</th>\n",
       "      <th>class</th>\n",
       "      <th>mark</th>\n",
       "      <th>gender</th>\n",
       "    </tr>\n",
       "  </thead>\n",
       "  <tbody>\n",
       "    <tr>\n",
       "      <th>28</th>\n",
       "      <td>29</td>\n",
       "      <td>Tess Played</td>\n",
       "      <td>Seven</td>\n",
       "      <td>55</td>\n",
       "      <td>male</td>\n",
       "    </tr>\n",
       "    <tr>\n",
       "      <th>29</th>\n",
       "      <td>30</td>\n",
       "      <td>Reppy Red</td>\n",
       "      <td>Six</td>\n",
       "      <td>79</td>\n",
       "      <td>female</td>\n",
       "    </tr>\n",
       "    <tr>\n",
       "      <th>30</th>\n",
       "      <td>31</td>\n",
       "      <td>Marry Toeey</td>\n",
       "      <td>Four</td>\n",
       "      <td>88</td>\n",
       "      <td>male</td>\n",
       "    </tr>\n",
       "    <tr>\n",
       "      <th>31</th>\n",
       "      <td>32</td>\n",
       "      <td>Binn Rott</td>\n",
       "      <td>Seven</td>\n",
       "      <td>90</td>\n",
       "      <td>female</td>\n",
       "    </tr>\n",
       "    <tr>\n",
       "      <th>32</th>\n",
       "      <td>33</td>\n",
       "      <td>Kenn Rein</td>\n",
       "      <td>Six</td>\n",
       "      <td>96</td>\n",
       "      <td>female</td>\n",
       "    </tr>\n",
       "    <tr>\n",
       "      <th>33</th>\n",
       "      <td>34</td>\n",
       "      <td>Gain Toe</td>\n",
       "      <td>Seven</td>\n",
       "      <td>69</td>\n",
       "      <td>male</td>\n",
       "    </tr>\n",
       "    <tr>\n",
       "      <th>34</th>\n",
       "      <td>35</td>\n",
       "      <td>Rows Noump</td>\n",
       "      <td>Six</td>\n",
       "      <td>88</td>\n",
       "      <td>female</td>\n",
       "    </tr>\n",
       "  </tbody>\n",
       "</table>\n",
       "</div>"
      ],
      "text/plain": [
       "    id         name  class  mark  gender\n",
       "28  29  Tess Played  Seven    55    male\n",
       "29  30    Reppy Red    Six    79  female\n",
       "30  31  Marry Toeey   Four    88    male\n",
       "31  32    Binn Rott  Seven    90  female\n",
       "32  33    Kenn Rein    Six    96  female\n",
       "33  34     Gain Toe  Seven    69    male\n",
       "34  35   Rows Noump    Six    88  female"
      ]
     },
     "execution_count": 10,
     "metadata": {},
     "output_type": "execute_result"
    }
   ],
   "source": [
    "df.tail(7)"
   ]
  },
  {
   "cell_type": "markdown",
   "id": "4e3b10db-1978-4e8e-aec4-ea9a32cb385f",
   "metadata": {},
   "source": [
    "## Q2. Given a Pandas DataFrame df with columns 'A', 'B', and 'C', write a Python function to re-index the DataFrame with a new index that starts from 1 and increments by 2 for each row."
   ]
  },
  {
   "cell_type": "code",
   "execution_count": 23,
   "id": "ff32ca6f-d7ec-4501-9c5e-ade11a4013bf",
   "metadata": {},
   "outputs": [],
   "source": [
    "def re_index(df):\n",
    "     # Create a new index using a range of values starting from 1 and incrementing by 2\n",
    "    new_index = range(1, 2 * len(df) + 1, 2)\n",
    "\n",
    "    # Assign the new index to the DataFrame\n",
    "    df.index = new_index\n",
    "\n",
    "    return df"
   ]
  },
  {
   "cell_type": "code",
   "execution_count": 24,
   "id": "05760d02-ecab-4eb0-b2fb-543bc14b7146",
   "metadata": {},
   "outputs": [],
   "source": [
    "df15 = pd.DataFrame({\"A\":[1,2,3],\"B\":['a','b','c'],\"C\":['a',4,6]})"
   ]
  },
  {
   "cell_type": "code",
   "execution_count": 25,
   "id": "ee9762d8-3002-401d-ba96-b1e5dcef123a",
   "metadata": {},
   "outputs": [
    {
     "data": {
      "text/html": [
       "<div>\n",
       "<style scoped>\n",
       "    .dataframe tbody tr th:only-of-type {\n",
       "        vertical-align: middle;\n",
       "    }\n",
       "\n",
       "    .dataframe tbody tr th {\n",
       "        vertical-align: top;\n",
       "    }\n",
       "\n",
       "    .dataframe thead th {\n",
       "        text-align: right;\n",
       "    }\n",
       "</style>\n",
       "<table border=\"1\" class=\"dataframe\">\n",
       "  <thead>\n",
       "    <tr style=\"text-align: right;\">\n",
       "      <th></th>\n",
       "      <th>A</th>\n",
       "      <th>B</th>\n",
       "      <th>C</th>\n",
       "    </tr>\n",
       "  </thead>\n",
       "  <tbody>\n",
       "    <tr>\n",
       "      <th>1</th>\n",
       "      <td>1</td>\n",
       "      <td>a</td>\n",
       "      <td>a</td>\n",
       "    </tr>\n",
       "    <tr>\n",
       "      <th>3</th>\n",
       "      <td>2</td>\n",
       "      <td>b</td>\n",
       "      <td>4</td>\n",
       "    </tr>\n",
       "    <tr>\n",
       "      <th>5</th>\n",
       "      <td>3</td>\n",
       "      <td>c</td>\n",
       "      <td>6</td>\n",
       "    </tr>\n",
       "  </tbody>\n",
       "</table>\n",
       "</div>"
      ],
      "text/plain": [
       "   A  B  C\n",
       "1  1  a  a\n",
       "3  2  b  4\n",
       "5  3  c  6"
      ]
     },
     "execution_count": 25,
     "metadata": {},
     "output_type": "execute_result"
    }
   ],
   "source": [
    "re_index(df15)"
   ]
  },
  {
   "cell_type": "markdown",
   "id": "dcf15416-a2a5-4568-a13a-40f7e5ae65e4",
   "metadata": {},
   "source": [
    "## Q3. You have a Pandas DataFrame df with a column named 'Values'. Write a Python function that iterates over the DataFrame and calculates the sum of the first three values in the 'Values' column. The function should print the sum to the console."
   ]
  },
  {
   "cell_type": "code",
   "execution_count": 1,
   "id": "1c61dfe5-17d1-40fd-a555-d765239c0d3c",
   "metadata": {},
   "outputs": [],
   "source": [
    "def iter_df(df):\n",
    "    print(df[\"Values\"][0:3].sum())"
   ]
  },
  {
   "cell_type": "code",
   "execution_count": 2,
   "id": "4d2b9780-c36a-4422-8ee8-9bbf8ad32642",
   "metadata": {},
   "outputs": [],
   "source": [
    "import pandas as pd\n",
    "d = {\"Values\":[1,2,3,4,5,6]}\n",
    "df1 = pd.DataFrame(d)"
   ]
  },
  {
   "cell_type": "code",
   "execution_count": 3,
   "id": "b1616518-5968-4591-aac9-7b03c3817f21",
   "metadata": {},
   "outputs": [
    {
     "name": "stdout",
     "output_type": "stream",
     "text": [
      "6\n"
     ]
    }
   ],
   "source": [
    "iter_df(df1)"
   ]
  },
  {
   "cell_type": "markdown",
   "id": "b8739c02-89b2-46a4-a9cb-00c9907005cf",
   "metadata": {},
   "source": [
    "## Q4. Given a Pandas DataFrame df with a column 'Text', write a Python function to create a new column 'Word_Count' that contains the number of words in each row of the 'Text' column."
   ]
  },
  {
   "cell_type": "code",
   "execution_count": 4,
   "id": "adabfc58-a601-4112-8a88-e0e87663deea",
   "metadata": {},
   "outputs": [],
   "source": [
    "def col_Word_Count(df):\n",
    "    lst = []\n",
    "    for i in range(len(df['Text'])):\n",
    "        a = df['Text'][i]\n",
    "        b = len(a.split(\" \"))\n",
    "        lst.append(b)\n",
    "    df['Word_count'] = lst\n",
    "    return df"
   ]
  },
  {
   "cell_type": "code",
   "execution_count": 5,
   "id": "f6b76443-beb8-4d94-9325-43b08d3c80a6",
   "metadata": {},
   "outputs": [],
   "source": [
    "import pandas as pd\n",
    "data = {'Text':['Happy','Welcome Home','Good Morning to all']}\n",
    "df5 = pd.DataFrame(data)"
   ]
  },
  {
   "cell_type": "code",
   "execution_count": 6,
   "id": "ec08803d-93b3-4bd5-bcbc-797edf96dfda",
   "metadata": {},
   "outputs": [
    {
     "data": {
      "text/html": [
       "<div>\n",
       "<style scoped>\n",
       "    .dataframe tbody tr th:only-of-type {\n",
       "        vertical-align: middle;\n",
       "    }\n",
       "\n",
       "    .dataframe tbody tr th {\n",
       "        vertical-align: top;\n",
       "    }\n",
       "\n",
       "    .dataframe thead th {\n",
       "        text-align: right;\n",
       "    }\n",
       "</style>\n",
       "<table border=\"1\" class=\"dataframe\">\n",
       "  <thead>\n",
       "    <tr style=\"text-align: right;\">\n",
       "      <th></th>\n",
       "      <th>Text</th>\n",
       "      <th>Word_count</th>\n",
       "    </tr>\n",
       "  </thead>\n",
       "  <tbody>\n",
       "    <tr>\n",
       "      <th>0</th>\n",
       "      <td>Happy</td>\n",
       "      <td>1</td>\n",
       "    </tr>\n",
       "    <tr>\n",
       "      <th>1</th>\n",
       "      <td>Welcome Home</td>\n",
       "      <td>2</td>\n",
       "    </tr>\n",
       "    <tr>\n",
       "      <th>2</th>\n",
       "      <td>Good Morning to all</td>\n",
       "      <td>4</td>\n",
       "    </tr>\n",
       "  </tbody>\n",
       "</table>\n",
       "</div>"
      ],
      "text/plain": [
       "                  Text  Word_count\n",
       "0                Happy           1\n",
       "1         Welcome Home           2\n",
       "2  Good Morning to all           4"
      ]
     },
     "execution_count": 6,
     "metadata": {},
     "output_type": "execute_result"
    }
   ],
   "source": [
    "col_Word_Count(df5)"
   ]
  },
  {
   "cell_type": "markdown",
   "id": "c74545c8-1909-4c56-8c3d-b088b04faaa7",
   "metadata": {},
   "source": [
    "## Q5. How are DataFrame.size() and DataFrame.shape() different?"
   ]
  },
  {
   "cell_type": "markdown",
   "id": "441b496d-12bf-454d-bba8-9dd935c651c1",
   "metadata": {},
   "source": [
    "DataFrame.size() : Return an int representing the number of elements in this object.Return the number of rows if Series. Otherwise return the number of rows times number of columns if DataFrame."
   ]
  },
  {
   "cell_type": "markdown",
   "id": "d54e614c-6ba4-4b3a-89dd-419dddcb88a6",
   "metadata": {},
   "source": [
    "DataFrame.shape() : Return a tuple representing the dimensionality of the DataFrame."
   ]
  },
  {
   "cell_type": "markdown",
   "id": "76bd8cc8-0503-47df-b899-bc5c0d67c139",
   "metadata": {},
   "source": [
    "## Q6. Which function of pandas do we use to read an excel file?"
   ]
  },
  {
   "cell_type": "markdown",
   "id": "d1915457-3332-449a-b7a6-1cd9fb8cb674",
   "metadata": {},
   "source": [
    "read_excel() function is used to read an excel file."
   ]
  },
  {
   "cell_type": "markdown",
   "id": "8c904101-da8d-4da1-8a3e-2559cc74900f",
   "metadata": {},
   "source": [
    "## Q7. You have a Pandas DataFrame df that contains a column named 'Email' that contains email addresses in the format 'username@domain.com'. Write a Python function that creates a new column 'Username' in df that contains only the username part of each email address."
   ]
  },
  {
   "cell_type": "code",
   "execution_count": 7,
   "id": "c32f1996-061f-4c09-bdc8-a7d975bf4201",
   "metadata": {},
   "outputs": [],
   "source": [
    "def new_col(df):\n",
    "    lst = []\n",
    "    for i in range(len(df['Email'])):\n",
    "        a = df['Email'][i]\n",
    "        b = a.split('@')\n",
    "        lst.append(b[0])    \n",
    "    df['Username'] = lst"
   ]
  },
  {
   "cell_type": "code",
   "execution_count": 8,
   "id": "20026ec3-72ea-4394-ab6c-3ac3118644c0",
   "metadata": {},
   "outputs": [],
   "source": [
    "import pandas as pd\n",
    "data = {\"Email\":[\"dhruv@gmail.com\",\"rohan@gmail.com\",\"rahul@gmail.com\",\"shubham@yahoo.com\"]}\n",
    "df3 = pd.DataFrame(data)"
   ]
  },
  {
   "cell_type": "code",
   "execution_count": 9,
   "id": "4ada9978-5bd3-45d8-bb62-ec3606fdb0b0",
   "metadata": {},
   "outputs": [],
   "source": [
    "new_col(df3)"
   ]
  },
  {
   "cell_type": "code",
   "execution_count": 10,
   "id": "7a085ff7-5d01-4413-af1b-82eee8f09128",
   "metadata": {},
   "outputs": [
    {
     "data": {
      "text/html": [
       "<div>\n",
       "<style scoped>\n",
       "    .dataframe tbody tr th:only-of-type {\n",
       "        vertical-align: middle;\n",
       "    }\n",
       "\n",
       "    .dataframe tbody tr th {\n",
       "        vertical-align: top;\n",
       "    }\n",
       "\n",
       "    .dataframe thead th {\n",
       "        text-align: right;\n",
       "    }\n",
       "</style>\n",
       "<table border=\"1\" class=\"dataframe\">\n",
       "  <thead>\n",
       "    <tr style=\"text-align: right;\">\n",
       "      <th></th>\n",
       "      <th>Email</th>\n",
       "      <th>Username</th>\n",
       "    </tr>\n",
       "  </thead>\n",
       "  <tbody>\n",
       "    <tr>\n",
       "      <th>0</th>\n",
       "      <td>dhruv@gmail.com</td>\n",
       "      <td>dhruv</td>\n",
       "    </tr>\n",
       "    <tr>\n",
       "      <th>1</th>\n",
       "      <td>rohan@gmail.com</td>\n",
       "      <td>rohan</td>\n",
       "    </tr>\n",
       "    <tr>\n",
       "      <th>2</th>\n",
       "      <td>rahul@gmail.com</td>\n",
       "      <td>rahul</td>\n",
       "    </tr>\n",
       "    <tr>\n",
       "      <th>3</th>\n",
       "      <td>shubham@yahoo.com</td>\n",
       "      <td>shubham</td>\n",
       "    </tr>\n",
       "  </tbody>\n",
       "</table>\n",
       "</div>"
      ],
      "text/plain": [
       "               Email Username\n",
       "0    dhruv@gmail.com    dhruv\n",
       "1    rohan@gmail.com    rohan\n",
       "2    rahul@gmail.com    rahul\n",
       "3  shubham@yahoo.com  shubham"
      ]
     },
     "execution_count": 10,
     "metadata": {},
     "output_type": "execute_result"
    }
   ],
   "source": [
    "df3"
   ]
  },
  {
   "cell_type": "markdown",
   "id": "554a3b51-1fa1-44f4-bb22-8354fb024bb0",
   "metadata": {},
   "source": [
    "## Q8. You have a Pandas DataFrame df with columns 'A', 'B', and 'C'. Write a Python function that selects all rows where the value in column 'A' is greater than 5 and the value in column 'B' is less than 10. The function should return a new DataFrame that contains only the selected rows."
   ]
  },
  {
   "cell_type": "code",
   "execution_count": 11,
   "id": "331f96ab-6d33-46e4-ba7b-30c5e2ddf2b0",
   "metadata": {},
   "outputs": [],
   "source": [
    "def data_frame(df):\n",
    "    lst=[]\n",
    "    lst1 = []\n",
    "    lst2 = []\n",
    "    for i in range(len(df['A'])):\n",
    "        if df.loc[i,'A'] > 5 and df.loc[i,'B'] < 10:\n",
    "            lst.append(df.loc[i,'A'])\n",
    "            lst1.append(df.loc[i,'B'])\n",
    "            lst2.append(df.loc[i,'C'])\n",
    "        else:\n",
    "            pass\n",
    "    data  = {'A': lst,'B': lst1,'C':lst2}\n",
    "    df1 = pd.DataFrame(data)\n",
    "    return df1"
   ]
  },
  {
   "cell_type": "code",
   "execution_count": 12,
   "id": "54ef0f9d-5ed7-47e1-9c51-8a71e5e89217",
   "metadata": {},
   "outputs": [],
   "source": [
    "data = {\"A\":[5,6,3,7,1,8],\"B\":[1,2,3,14,13,7],\"C\":[4,2,7,1,8,3]}\n",
    "df4 = pd.DataFrame(data)"
   ]
  },
  {
   "cell_type": "code",
   "execution_count": 13,
   "id": "c6b5d4c9-125f-437c-baca-03e4104a9ca2",
   "metadata": {},
   "outputs": [
    {
     "data": {
      "text/html": [
       "<div>\n",
       "<style scoped>\n",
       "    .dataframe tbody tr th:only-of-type {\n",
       "        vertical-align: middle;\n",
       "    }\n",
       "\n",
       "    .dataframe tbody tr th {\n",
       "        vertical-align: top;\n",
       "    }\n",
       "\n",
       "    .dataframe thead th {\n",
       "        text-align: right;\n",
       "    }\n",
       "</style>\n",
       "<table border=\"1\" class=\"dataframe\">\n",
       "  <thead>\n",
       "    <tr style=\"text-align: right;\">\n",
       "      <th></th>\n",
       "      <th>A</th>\n",
       "      <th>B</th>\n",
       "      <th>C</th>\n",
       "    </tr>\n",
       "  </thead>\n",
       "  <tbody>\n",
       "    <tr>\n",
       "      <th>0</th>\n",
       "      <td>6</td>\n",
       "      <td>2</td>\n",
       "      <td>2</td>\n",
       "    </tr>\n",
       "    <tr>\n",
       "      <th>1</th>\n",
       "      <td>8</td>\n",
       "      <td>7</td>\n",
       "      <td>3</td>\n",
       "    </tr>\n",
       "  </tbody>\n",
       "</table>\n",
       "</div>"
      ],
      "text/plain": [
       "   A  B  C\n",
       "0  6  2  2\n",
       "1  8  7  3"
      ]
     },
     "execution_count": 13,
     "metadata": {},
     "output_type": "execute_result"
    }
   ],
   "source": [
    "data_frame(df4)"
   ]
  },
  {
   "cell_type": "markdown",
   "id": "10918170-78aa-49cf-a963-f28a598cef6d",
   "metadata": {},
   "source": [
    "## Q9. Given a Pandas DataFrame df with a column 'Values', write a Python function to calculate the mean,median, and standard deviation of the values in the 'Values' column."
   ]
  },
  {
   "cell_type": "code",
   "execution_count": 14,
   "id": "637a0689-05ab-42b9-8a2a-61cb59933e30",
   "metadata": {},
   "outputs": [],
   "source": [
    "import pandas as pd"
   ]
  },
  {
   "cell_type": "code",
   "execution_count": 15,
   "id": "639b6d00-e25e-48dd-81cd-312440e1899b",
   "metadata": {},
   "outputs": [],
   "source": [
    "def col_value(df):\n",
    "    mean = df['Values'].mean()\n",
    "    median = df['Values'].median()\n",
    "    standard_deviation = df['Values'].std()\n",
    "    return \"The mean is {a} and median is {b} and Standard deviation is {c}\".format(a=mean,b=median,c=standard_deviation)\n",
    "       "
   ]
  },
  {
   "cell_type": "code",
   "execution_count": 16,
   "id": "9a0f1b45-30c0-4d64-b83a-5c858f433431",
   "metadata": {},
   "outputs": [],
   "source": [
    "d = pd.DataFrame({\"Values\":[2,3,4,5,6,12,18]})"
   ]
  },
  {
   "cell_type": "code",
   "execution_count": 17,
   "id": "66347288-ced7-43fb-916c-4dc94bfbb6e0",
   "metadata": {},
   "outputs": [
    {
     "data": {
      "text/plain": [
       "'The mean is 7.142857142857143 and median is 5.0 and Standard deviation is 5.785861256216786'"
      ]
     },
     "execution_count": 17,
     "metadata": {},
     "output_type": "execute_result"
    }
   ],
   "source": [
    "col_value(d)"
   ]
  },
  {
   "cell_type": "markdown",
   "id": "22cb5db2-a2d0-4936-8ec9-2d379c597300",
   "metadata": {},
   "source": [
    "## Q10. Given a Pandas DataFrame df with a column 'Sales' and a column 'Date', write a Python function to create a new column 'MovingAverage' that contains the moving average of the sales for the past 7 days for each row in the DataFrame. The moving average should be calculated using a window of size 7 and should include the current day."
   ]
  },
  {
   "cell_type": "code",
   "execution_count": 18,
   "id": "30a7e7e7-cead-4084-99da-3280b790143c",
   "metadata": {},
   "outputs": [],
   "source": [
    "def Moving_Average(df):\n",
    "    df['MovingAverage'] = df['Sales'].rolling(window=7).mean()"
   ]
  },
  {
   "cell_type": "code",
   "execution_count": 19,
   "id": "fbc1ef3c-2eea-43b7-963f-224d798bf6f3",
   "metadata": {},
   "outputs": [],
   "source": [
    "date = pd.date_range(start='2022-01-1',end='2022-01-10')\n",
    "d1 = pd.DataFrame({\"Sales\":[2300,1355,1276,2800,3500,1200,1400,500,3200,1000],\"Date\":date})"
   ]
  },
  {
   "cell_type": "code",
   "execution_count": 20,
   "id": "2c7e8896-f698-40bb-a777-eb135baeecfd",
   "metadata": {},
   "outputs": [],
   "source": [
    "Moving_Average(d1)"
   ]
  },
  {
   "cell_type": "code",
   "execution_count": 21,
   "id": "45ae56c0-0e8d-4cd6-a87f-70471f109f3d",
   "metadata": {},
   "outputs": [
    {
     "data": {
      "text/html": [
       "<div>\n",
       "<style scoped>\n",
       "    .dataframe tbody tr th:only-of-type {\n",
       "        vertical-align: middle;\n",
       "    }\n",
       "\n",
       "    .dataframe tbody tr th {\n",
       "        vertical-align: top;\n",
       "    }\n",
       "\n",
       "    .dataframe thead th {\n",
       "        text-align: right;\n",
       "    }\n",
       "</style>\n",
       "<table border=\"1\" class=\"dataframe\">\n",
       "  <thead>\n",
       "    <tr style=\"text-align: right;\">\n",
       "      <th></th>\n",
       "      <th>Sales</th>\n",
       "      <th>Date</th>\n",
       "      <th>MovingAverage</th>\n",
       "    </tr>\n",
       "  </thead>\n",
       "  <tbody>\n",
       "    <tr>\n",
       "      <th>0</th>\n",
       "      <td>2300</td>\n",
       "      <td>2022-01-01</td>\n",
       "      <td>NaN</td>\n",
       "    </tr>\n",
       "    <tr>\n",
       "      <th>1</th>\n",
       "      <td>1355</td>\n",
       "      <td>2022-01-02</td>\n",
       "      <td>NaN</td>\n",
       "    </tr>\n",
       "    <tr>\n",
       "      <th>2</th>\n",
       "      <td>1276</td>\n",
       "      <td>2022-01-03</td>\n",
       "      <td>NaN</td>\n",
       "    </tr>\n",
       "    <tr>\n",
       "      <th>3</th>\n",
       "      <td>2800</td>\n",
       "      <td>2022-01-04</td>\n",
       "      <td>NaN</td>\n",
       "    </tr>\n",
       "    <tr>\n",
       "      <th>4</th>\n",
       "      <td>3500</td>\n",
       "      <td>2022-01-05</td>\n",
       "      <td>NaN</td>\n",
       "    </tr>\n",
       "    <tr>\n",
       "      <th>5</th>\n",
       "      <td>1200</td>\n",
       "      <td>2022-01-06</td>\n",
       "      <td>NaN</td>\n",
       "    </tr>\n",
       "    <tr>\n",
       "      <th>6</th>\n",
       "      <td>1400</td>\n",
       "      <td>2022-01-07</td>\n",
       "      <td>1975.857143</td>\n",
       "    </tr>\n",
       "    <tr>\n",
       "      <th>7</th>\n",
       "      <td>500</td>\n",
       "      <td>2022-01-08</td>\n",
       "      <td>1718.714286</td>\n",
       "    </tr>\n",
       "    <tr>\n",
       "      <th>8</th>\n",
       "      <td>3200</td>\n",
       "      <td>2022-01-09</td>\n",
       "      <td>1982.285714</td>\n",
       "    </tr>\n",
       "    <tr>\n",
       "      <th>9</th>\n",
       "      <td>1000</td>\n",
       "      <td>2022-01-10</td>\n",
       "      <td>1942.857143</td>\n",
       "    </tr>\n",
       "  </tbody>\n",
       "</table>\n",
       "</div>"
      ],
      "text/plain": [
       "   Sales       Date  MovingAverage\n",
       "0   2300 2022-01-01            NaN\n",
       "1   1355 2022-01-02            NaN\n",
       "2   1276 2022-01-03            NaN\n",
       "3   2800 2022-01-04            NaN\n",
       "4   3500 2022-01-05            NaN\n",
       "5   1200 2022-01-06            NaN\n",
       "6   1400 2022-01-07    1975.857143\n",
       "7    500 2022-01-08    1718.714286\n",
       "8   3200 2022-01-09    1982.285714\n",
       "9   1000 2022-01-10    1942.857143"
      ]
     },
     "execution_count": 21,
     "metadata": {},
     "output_type": "execute_result"
    }
   ],
   "source": [
    "d1"
   ]
  },
  {
   "cell_type": "markdown",
   "id": "0c2e8ea4-b5b6-4a2e-aa19-fbacfbfe8c3b",
   "metadata": {},
   "source": [
    "## Q11. You have a Pandas DataFrame df with a column 'Date'. Write a Python function that creates a new column 'Weekday' in the DataFrame. The 'Weekday' column should contain the weekday name (e.g. Monday, Tuesday) corresponding to each date in the 'Date' column."
   ]
  },
  {
   "cell_type": "code",
   "execution_count": 22,
   "id": "bc494500-d0ee-4195-b931-d625893f3dba",
   "metadata": {},
   "outputs": [],
   "source": [
    "def func_day(df):\n",
    "    df[\"Weekday\"] = df[\"Date\"].dt.dayofweek\n",
    "    df['Weekday'] = df['Weekday'].map({\n",
    "    0: 'Monday',\n",
    "    1: 'Tuesday',\n",
    "    2: 'Wednesday',\n",
    "    3: 'Thursday',\n",
    "    4: 'Friday',\n",
    "    5: 'Saturday',\n",
    "    6: 'Sunday'\n",
    "})"
   ]
  },
  {
   "cell_type": "markdown",
   "id": "2546a6d5-8965-4929-adff-1668ec3e2e05",
   "metadata": {},
   "source": [
    "## Q12. Given a Pandas DataFrame df with a column 'Date' that contains timestamps, write a Python function to select all rows where the date is between '2023-01-01' and '2023-01-31'."
   ]
  },
  {
   "cell_type": "code",
   "execution_count": 34,
   "id": "13ec1661-2100-4781-8384-406c46e9a917",
   "metadata": {},
   "outputs": [],
   "source": [
    "def get_row(df):\n",
    "    lst = []\n",
    "    date_range = pd.date_range(start='2023-01-01',end='2023-01-31')\n",
    "    for i in df['Date']:\n",
    "        for j in date_range:\n",
    "            if i == j:\n",
    "                lst.append(j)\n",
    "            else:\n",
    "                pass\n",
    "    return lst\n",
    "                  "
   ]
  },
  {
   "cell_type": "code",
   "execution_count": 32,
   "id": "70da3089-6623-4393-8cdf-f11c20f7f453",
   "metadata": {},
   "outputs": [],
   "source": [
    "date1 = pd.date_range(start='2023-01-15',end='2023-02-25')\n",
    "df5 = pd.DataFrame({\"Date\":date1})"
   ]
  },
  {
   "cell_type": "code",
   "execution_count": 35,
   "id": "3151f1e6-0874-48db-aa71-4ebec0fd0a47",
   "metadata": {},
   "outputs": [
    {
     "data": {
      "text/plain": [
       "[Timestamp('2023-01-15 00:00:00', freq='D'),\n",
       " Timestamp('2023-01-16 00:00:00', freq='D'),\n",
       " Timestamp('2023-01-17 00:00:00', freq='D'),\n",
       " Timestamp('2023-01-18 00:00:00', freq='D'),\n",
       " Timestamp('2023-01-19 00:00:00', freq='D'),\n",
       " Timestamp('2023-01-20 00:00:00', freq='D'),\n",
       " Timestamp('2023-01-21 00:00:00', freq='D'),\n",
       " Timestamp('2023-01-22 00:00:00', freq='D'),\n",
       " Timestamp('2023-01-23 00:00:00', freq='D'),\n",
       " Timestamp('2023-01-24 00:00:00', freq='D'),\n",
       " Timestamp('2023-01-25 00:00:00', freq='D'),\n",
       " Timestamp('2023-01-26 00:00:00', freq='D'),\n",
       " Timestamp('2023-01-27 00:00:00', freq='D'),\n",
       " Timestamp('2023-01-28 00:00:00', freq='D'),\n",
       " Timestamp('2023-01-29 00:00:00', freq='D'),\n",
       " Timestamp('2023-01-30 00:00:00', freq='D'),\n",
       " Timestamp('2023-01-31 00:00:00', freq='D')]"
      ]
     },
     "execution_count": 35,
     "metadata": {},
     "output_type": "execute_result"
    }
   ],
   "source": [
    "get_row(df5)"
   ]
  },
  {
   "cell_type": "markdown",
   "id": "f0f6c6c9-d883-4675-a28f-9f4eb25361a4",
   "metadata": {},
   "source": [
    "## Q13. To use the basic functions of pandas, what is the first and foremost necessary library that needs to be imported?"
   ]
  },
  {
   "cell_type": "markdown",
   "id": "87d2aee1-ca45-4365-b56a-75ed46bc6dcd",
   "metadata": {},
   "source": [
    "pandas library need to be imported to use basic functions of pandas"
   ]
  },
  {
   "cell_type": "code",
   "execution_count": null,
   "id": "ff363d17-be74-4bd1-8e17-6a7fc2581638",
   "metadata": {},
   "outputs": [],
   "source": []
  }
 ],
 "metadata": {
  "kernelspec": {
   "display_name": "Python 3 (ipykernel)",
   "language": "python",
   "name": "python3"
  },
  "language_info": {
   "codemirror_mode": {
    "name": "ipython",
    "version": 3
   },
   "file_extension": ".py",
   "mimetype": "text/x-python",
   "name": "python",
   "nbconvert_exporter": "python",
   "pygments_lexer": "ipython3",
   "version": "3.10.8"
  }
 },
 "nbformat": 4,
 "nbformat_minor": 5
}
